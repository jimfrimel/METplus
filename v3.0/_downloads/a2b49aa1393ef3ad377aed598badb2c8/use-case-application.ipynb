{
  "cells": [
    {
      "cell_type": "code",
      "execution_count": null,
      "metadata": {
        "collapsed": false
      },
      "outputs": [],
      "source": [
        "%matplotlib inline"
      ]
    },
    {
      "cell_type": "markdown",
      "metadata": {},
      "source": [
        "\nTemplate\n========\n\nEnter a description of your use case here. This will appear at the very top of the \nuse case page. It can be fairly long, and can include hyperlinks to websites, references,\nor other relevant details to help the user. Any valid RST is acceptable here. \n\nThe use case template will follow the general pattern of:\n\n  * Scientific objective\n  * Datasets\n  * METplus Components\n  * METplus Workflow\n  * METplus Configuration\n  * Running METplus\n  * Expected Output\n  * Keywords\n\n\n"
      ]
    },
    {
      "cell_type": "markdown",
      "metadata": {},
      "source": [
        "Scientific Objective\n--------------------\n\nDescribe the scientific objective of the use case here. This can be fairly\nsimple, or complex depending on the task.\n\n"
      ]
    },
    {
      "cell_type": "markdown",
      "metadata": {},
      "source": [
        "Datasets\n--------\n\nDescribe the datasets here. Relevant information about the datasets that would\nbe beneficial include:\n\n * Forecast dataset name/levels/dates/formats\n * Observation dataset name/levels/dates/formats\n * Sources of data (links, contacts, etc...)\n * Example graphics of datasets if appropriate\n\n"
      ]
    },
    {
      "cell_type": "code",
      "execution_count": null,
      "metadata": {
        "collapsed": false
      },
      "outputs": [],
      "source": [
        "print(\"Hello World\")"
      ]
    },
    {
      "cell_type": "markdown",
      "metadata": {},
      "source": [
        "METplus Components\n------------------\n\nDescribe the METplus Components that are used in this use case. This can be\nanything from the METplus wrapper names that are used, to METdb, to METviewer,\nto the MET tools (e.g. grid_stat, etc...) that are utilized in this use case.\nTry to be as complete as possible.\n\n"
      ]
    },
    {
      "cell_type": "markdown",
      "metadata": {},
      "source": [
        "METplus Workflow\n----------------\n\nA general description of the workflow will be useful to the user. For example,\nthe order in which tools are called (e.g. PcpCombine then grid_stat) or the way \nin which data are processed (e.g. looping over valid times) with an example\nof how the looping will work would be helpful for the user.\n\n"
      ]
    },
    {
      "cell_type": "markdown",
      "metadata": {},
      "source": [
        "METplus Configuration\n---------------------\n\nDetail the configuration/conf file for this METplus use case. Also review\nhow METplus sets configuration variables if the user does not set them (i.e.\nit loads from METplus/parm/metplus_config/* before any custom conf files\nprovided by the user via master_metplus.py -c custom_file.conf).\nYou can include conf items in code-blocks using RST like this:\n\n.. code-block:: none\n\n   [dir]\n   OUTPUT_BASE=/path/to\n\nOr if you want to suck in the entire conf file automatically, provide the relative\npath to the conf file from the gallery_dirs directory for this use case specified in the\nconf.py file (this is recommended since it will keep in sync with the conf file automatically):\n\n.. highlight:: none\n.. literalinclude:: ../../../parm/use_cases/template/use-case-application.conf\n\n"
      ]
    },
    {
      "cell_type": "markdown",
      "metadata": {},
      "source": [
        "Running METplus\n---------------\n\nIt will be helpful to include an example command of running METplus.\n\n"
      ]
    },
    {
      "cell_type": "markdown",
      "metadata": {},
      "source": [
        "Expected Output\n---------------\n\nSpend some time detailing how the user will know if the use case succeeded or not. This\ncould include anything from where expected output files will be, what those filenames will be,\nwhat METplus will print to the command line, images from METplotpy, or something else.\nIf the expected output is just files, include some information for the user on how they can\nknow if what is in the files is what is expected.\n\nUsing static images is allowed but must use a path relative to the gallery_dirs directory for\nthis use case (found in the conf.py file). This relative path allows images to be stored with the\nuse case files under parm/use_cases:\n\n![](../../../parm/use_cases/METplus_logo.png)\n\n\n\n"
      ]
    },
    {
      "cell_type": "markdown",
      "metadata": {},
      "source": [
        "Keywords\n--------\n\nChoose from the following pool of keywords, and include them in a note directive below.\nRemove any keywords you don't use.\n\nGridStatUseCase, PB2NCUseCase, PrecipitationUseCase\n\nNow include them like this:\n\n<div class=\"alert alert-info\"><h4>Note</h4><p>GridStatUseCase, PB2NCUseCase</p></div>\n\n"
      ]
    }
  ],
  "metadata": {
    "kernelspec": {
      "display_name": "Python 3",
      "language": "python",
      "name": "python3"
    },
    "language_info": {
      "codemirror_mode": {
        "name": "ipython",
        "version": 3
      },
      "file_extension": ".py",
      "mimetype": "text/x-python",
      "name": "python",
      "nbconvert_exporter": "python",
      "pygments_lexer": "ipython3",
      "version": "3.6.3"
    }
  },
  "nbformat": 4,
  "nbformat_minor": 0
}