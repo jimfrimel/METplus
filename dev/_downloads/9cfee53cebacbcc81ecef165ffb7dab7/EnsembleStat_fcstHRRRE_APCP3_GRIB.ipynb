{
  "cells": [
    {
      "cell_type": "code",
      "execution_count": null,
      "metadata": {
        "collapsed": false
      },
      "outputs": [],
      "source": [
        "%matplotlib inline"
      ]
    },
    {
      "cell_type": "markdown",
      "metadata": {},
      "source": [
        "\nHRRR Ensemble Use Case\n======================\n\nThis use case builds a 3 hour gridded precipitation accumulation using 1 hour accumulation fields,\n\n\n"
      ]
    },
    {
      "cell_type": "markdown",
      "metadata": {},
      "source": [
        "Scientific Objective\n--------------------\n\nDescribe the scientific objective of the use case here. This can be fairly\nsimple, or complex depending on the task.\n\n"
      ]
    },
    {
      "cell_type": "markdown",
      "metadata": {},
      "source": [
        "Datasets\n--------\n\nDescribe the datasets here. Relevant information about the datasets that would\nbe beneficial include:\n\n * Forecast dataset: RUC GRIB 3 hour precipitation accumulation\n * Observation dataset: Stage II GRIB 1 hour precipitation accumulation\n * Sources of data (links, contacts, etc...)\n\n\n"
      ]
    },
    {
      "cell_type": "markdown",
      "metadata": {},
      "source": [
        "METplus Components\n------------------\n\nThis use case runs EnsembleStat on the GRIB HRRRE data\n\n"
      ]
    },
    {
      "cell_type": "markdown",
      "metadata": {},
      "source": [
        "METplus Workflow\n----------------\n\nThe following tools are used for each run time:\n EnsembleStat\n\nThis example loops by initialization time. For each initialization time\n it will process forecast leads 3, 6, 9 and 12 for 2 initilization times\n\nRun times:\n\n| **Init:** 2019-05-19_12Z\n| **Forecast lead:** 3\n\n| **Init:** 2019-05-19_12Z\n| **Forecast lead:** 6\n\n| **Init:** 2019-05-19_12Z\n| **Forecast lead:** 9\n\n| **Init:** 2019-05-19_12Z\n| **Forecast lead:** 12\n\n| **Init:** 2019-05-20_00Z\n| **Forecast lead:** 3\n\n| **Init:** 2019-05-20_00Z\n| **Forecast lead:** 6\n\n| **Init:** 2019-05-20_00Z\n| **Forecast lead:** 9\n\n| **Init:** 2019-05-20_00Z\n| **Forecast lead:** 12\n\n\n"
      ]
    },
    {
      "cell_type": "markdown",
      "metadata": {},
      "source": [
        "METplus Configuration\n---------------------\n\nMETplus first loads all of the configuration files found in parm/metplus_config,\nthen it loads any configuration files passed to METplus via the command line\nwith the -c option, i.e. -c parm/use_cases/model_applications/precipitation/EnsembleStat_fcstHRRRE_APCP3_GRIB.conf\n\n.. highlight:: bash\n.. literalinclude:: ../../../../parm/use_cases/model_applications/precipitation/EnsembleStat_fcstHRRRE_APCP3_GRIB.conf\n\n"
      ]
    },
    {
      "cell_type": "markdown",
      "metadata": {},
      "source": [
        "MET Configuration\n---------------------\n\nMETplus sets environment variables based on the values in the METplus configuration file.\nThese variables are referenced in the MET configuration file. **YOU SHOULD NOT SET ANY OF THESE ENVIRONMENT VARIABLES YOURSELF! THEY WILL BE OVERWRITTEN BY METPLUS WHEN IT CALLS THE MET TOOLS!** If there is a setting in the MET configuration file that is not controlled by an environment variable, you can add additional environment variables to be set only within the METplus environment using the [user_env_vars] section of the METplus configuration files. See the 'User Defined Config' section on the 'System Configuration' page of the METplus User's Guide for more information.\n\n.. highlight:: bash\n.. literalinclude:: ../../../../parm/use_cases/model_applications/precipitation/EnsembleStatConfig_APCP03\n\nSee the following files for more information about the environment variables set in this configuration file.\n  parm/use_cases/met_tool_wrapper/EnsembleStat.py\n\n"
      ]
    },
    {
      "cell_type": "markdown",
      "metadata": {},
      "source": [
        "Running METplus\n---------------\n\nThis use case can be run two ways:\n\n1) Passing in EnsembleStat_fcstHRRRE_obsHRRRE_Sfc_MultiField.conf then a user-specific system configuration file::\n\n       master_metplus.py -c /path/to/METplus/parm/use_cases/model_applications/precipitation/EnsembleStat_fcstHRRRE_APCP3_GRIB.conf -c /path/to/user_system.conf\n\n2) Modifying the configurations in parm/metplus_config, then passing in EnsembleStat_fcstHRRRE_APCP3_GRIB.conf::\n\n       master_metplus.py -c /path/to/METplus/parm/use_cases/model_applications/precipitation/EnsembleStat_fcstHRRRE_APCP3_GRIB.conf\n\nThe former method is recommended. Whether you add them to a user-specific configuration file or modify the metplus_config files, the following variables must be set correctly:\n\n* **INPUT_BASE** - Path to directory where sample data tarballs are unpacked (See Datasets section to obtain tarballs). This is not required to run METplus, but it is required to run the examples in parm/use_cases\n* **OUTPUT_BASE** - Path where METplus output will be written. This must be in a location where you have write permissions\n* **MET_INSTALL_DIR** - Path to location where MET is installed locally\n\nExample User Configuration File::\n\n  [dir]\n  INPUT_BASE = /path/to/sample/input/data\n  OUTPUT_BASE = /path/to/output/dir\n  MET_INSTALL_DIR = /path/to/met-X.Y \n\n**NOTE:** All of these items must be found under the [dir] section.\n\n\n"
      ]
    },
    {
      "cell_type": "markdown",
      "metadata": {},
      "source": [
        "Expected Output\n---------------\n\nA successful run will output the following both to the screen and to the logfile::\n\n  INFO: METplus has successfully finished running.\n\nRefer to the value set for **OUTPUT_BASE** to find where the output data was generated.\nOutput for this use case will be found in model_applications/precipitation/EnsembleStat_fcstHRRRE_obsHRRRE_Sfc_MultiField/201807091200 (relative to **OUTPUT_BASE**)\nand will contain the following files:\n\n* ensemble_stat_APCP_03_20190519_150000V_ens.nc\n* ensemble_stat_APCP_03_20190519_180000V_ens.nc\n* ensemble_stat_APCP_03_20190519_210000V_ens.nc\n* ensemble_stat_APCP_03_20190520_000000V_ens.nc\n* ensemble_stat_APCP_03_20190520_030000V_ens.nc\n* ensemble_stat_APCP_03_20190520_060000V_ens.nc\n* ensemble_stat_APCP_03_20190520_090000V_ens.nc\n* ensemble_stat_APCP_03_20190520_120000V_ens.nc\n\n\n"
      ]
    },
    {
      "cell_type": "markdown",
      "metadata": {},
      "source": [
        "Keywords\n--------\n\nChoose from the following pool of keywords, and include them in a note directive below.\nRemove any keywords you don't use.\n\nEnsembleStatUseCase, PrecipitationUseCase\n\nNow include them like this:\n\n<div class=\"alert alert-info\"><h4>Note</h4><p>EnsembleStatUseCase, PrecipitationUseCases</p></div>\n\n"
      ]
    }
  ],
  "metadata": {
    "kernelspec": {
      "display_name": "Python 3",
      "language": "python",
      "name": "python3"
    },
    "language_info": {
      "codemirror_mode": {
        "name": "ipython",
        "version": 3
      },
      "file_extension": ".py",
      "mimetype": "text/x-python",
      "name": "python",
      "nbconvert_exporter": "python",
      "pygments_lexer": "ipython3",
      "version": "3.6.3"
    }
  },
  "nbformat": 4,
  "nbformat_minor": 0
}